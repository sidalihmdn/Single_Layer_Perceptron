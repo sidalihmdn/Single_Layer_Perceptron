{
 "cells": [
  {
   "cell_type": "code",
   "execution_count": 160,
   "id": "ea27f91d",
   "metadata": {},
   "outputs": [],
   "source": [
    "# perceptrone from scratch \n",
    "# by : Hamdane Sid-Ali - github.com/sidalihmdn/\n",
    "import numpy as np\n",
    "import math\n",
    "import matplotlib.pyplot as plt\n",
    "\n",
    "\n",
    "class Perceptron :\n",
    "    \n",
    "    def __init__(self,nFeatures):\n",
    "        #the number of features \n",
    "        self.nFeatures = nFeatures\n",
    "        # the number of weights is the number of features + a baias\n",
    "        self.weights = np.random.rand(nFeatures + 1)\n",
    "    \n",
    "    \n",
    "    # the sigmoid function returns a value between 0 and 1\n",
    "    def sigmoid(self , x):\n",
    "        return 1 / (1 + np.exp(-x))\n",
    "    \n",
    "    # the gradient descent helps aas to tune the weights\n",
    "    def gradientDescent(self , data , weights, e ,  lr = 0.01 ,):\n",
    "        newWeights = weights\n",
    "        newWeights = newWeights - e*lr*data\n",
    "        return newWeights\n",
    "\n",
    "    # the train function\n",
    "    def train(self, data , y ,  nEpochs = 1000 , lr = 0.01) :\n",
    "        # setting the correct shape for the data array\n",
    "        if data.shape[1] != self.nFeatures :\n",
    "            data = data.T\n",
    "        if data.shape[1] != self.nFeatures :\n",
    "            raise TypeError('number of features is not correct!')\n",
    "        \n",
    "        # the number of simples is the number of lines in the data vector\n",
    "        n_samples = data.shape[0]\n",
    "        \n",
    "        #adding a column of biais to the data, so every line will be in this form [biais feature_1 feature_2]\n",
    "        data = np.concatenate((np.ones((n_samples,1)),data),axis=1)\n",
    "        \n",
    "        # this loop will train the model and tune the weights in every itteration\n",
    "        for epoch in range(nEpochs):\n",
    "            for i in range(n_samples):\n",
    "                y_hat = self.sigmoid(np.dot(self.weights.T , data[i]))\n",
    "                e = y_hat - y[i]\n",
    "                self.weights = self.gradientDescent(data[i],self.weights,e,lr)\n",
    "            \n",
    "            \n",
    "                \n",
    "    # this function will help us test the perceptron with a single value            \n",
    "    def test(self , x1 , x2):\n",
    "        data_ = np.array([1, x1, x2])\n",
    "        y_hat = self.sigmoid(np.dot(self.weights.T , data_ ))\n",
    "        return y_hat\n",
    "            \n",
    "            \n",
    "   \n",
    "# ceating a set of data     \n",
    "f = lambda x : 2*x - 10\n",
    "\n",
    "x1 = np.random.randint(0,30,100)\n",
    "x2 = np.random.randint(0,30,100)\n",
    "y  = np.zeros(len(x1))\n",
    "\n",
    "for i in range(len(x1)) :\n",
    "    if (x2[i] > f(x1[i])):\n",
    "        y[i] = 1\n",
    "    else :\n",
    "        y[i] = 0\n",
    "        \n",
    "\n",
    "\n",
    "data = np.array([x1 , x2])\n",
    "data = data.T\n"
   ]
  },
  {
   "cell_type": "code",
   "execution_count": 155,
   "id": "548611dd",
   "metadata": {},
   "outputs": [
    {
     "name": "stdout",
     "output_type": "stream",
     "text": [
      "[1. 1. 0. 0. 1. 0. 0. 1. 1. 0. 1. 0. 1. 0. 0. 1. 1. 0. 0. 1. 1. 1. 0. 1.\n",
      " 1. 0. 0. 1. 1. 1. 0. 1. 1. 0. 1. 0. 0. 1. 1. 1. 0. 0. 0. 1. 0. 0. 1. 1.\n",
      " 1. 0. 1. 1. 1. 0. 0. 0. 0. 1. 1. 1. 0. 0. 0. 0. 0. 0. 1. 1. 1. 1. 0. 0.\n",
      " 1. 1. 1. 0. 1. 1. 0. 1. 0. 0. 0. 1. 0. 0. 1. 1. 1. 0. 1. 1. 1. 1. 0. 0.\n",
      " 1. 0. 0. 1.]\n"
     ]
    }
   ],
   "source": [
    "print(y)"
   ]
  },
  {
   "cell_type": "code",
   "execution_count": 161,
   "id": "1f3f4a1c",
   "metadata": {},
   "outputs": [
    {
     "name": "stdout",
     "output_type": "stream",
     "text": [
      "x1 = 10 , x2 = 2 , y = 2.9941282027056046e-06\n"
     ]
    }
   ],
   "source": [
    "# create a perceptrone object\n",
    "p = Perceptron(2)\n",
    "p.train(data,y)\n",
    "\n",
    "\n",
    "#here we test the perceptrone with individual values\n",
    "a1 = 10\n",
    "a2 = 2\n",
    "print(f\"x1 = {a1} , x2 = {a2} , y = {p.test(a1,a2)}\")\n"
   ]
  },
  {
   "cell_type": "code",
   "execution_count": 162,
   "id": "cc95b481",
   "metadata": {},
   "outputs": [
    {
     "data": {
      "image/png": "[encoded data removed]",
      "text/plain": [
       "<Figure size 432x288 with 1 Axes>"
      ]
     },
     "metadata": {
      "needs_background": "light"
     },
     "output_type": "display_data"
    }
   ],
   "source": [
    "x1_test = np.random.randint(0,30,100)\n",
    "x2_test = np.random.randint(0,30,100)\n",
    "\n",
    "y_test = np.zeros(len(x1_test))\n",
    "\n",
    "result1_x1 = []\n",
    "result1_x2 = []\n",
    "result2_x1 = []\n",
    "result2_x2 = []\n",
    "\n",
    "for i in range(len(x1_test)):\n",
    "    y_ = p.test(x1_test[i] , x2_test[i])\n",
    "    \n",
    "    # when we test the our set of points, we separate the points into two sets \n",
    "    if (y_ > 0.9) :\n",
    "        y_test[i] = 1\n",
    "        result1_x1.append(x1_test[i])\n",
    "        result1_x2.append(x2_test[i])\n",
    "    else :\n",
    "        y_test[i] = 0\n",
    "        result2_x1.append(x1_test[i])\n",
    "        result2_x2.append(x2_test[i])\n",
    "    \n",
    "\n",
    "# plot the points \n",
    "fig = plt.figure()\n",
    "ax1 = fig.add_subplot(111)\n",
    "ax1.scatter(result1_x1 , result1_x2 , c='r')\n",
    "ax1.scatter(result2_x1 , result2_x2 , c='g')\n",
    "plt.show()"
   ]
  },
  {
   "cell_type": "code",
   "execution_count": null,
   "id": "06556a32",
   "metadata": {},
   "outputs": [],
   "source": []
  }
 ],
 "metadata": {
  "kernelspec": {
   "display_name": "Python 3 (ipykernel)",
   "language": "python",
   "name": "python3"
  },
  "language_info": {
   "codemirror_mode": {
    "name": "ipython",
    "version": 3
   },
   "file_extension": ".py",
   "mimetype": "text/x-python",
   "name": "python",
   "nbconvert_exporter": "python",
   "pygments_lexer": "ipython3",
   "version": "3.10.0"
  }
 },
 "nbformat": 4,
 "nbformat_minor": 5
}
